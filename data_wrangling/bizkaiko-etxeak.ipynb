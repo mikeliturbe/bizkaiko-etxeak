{
 "cells": [
  {
   "cell_type": "markdown",
   "metadata": {},
   "source": [
    "## Bizkaiko etxeak\n",
    "### Houses of Biscay\n",
    "\n",
    "[Mikel Iturbe](http://iturbe.info), 2016\n",
    "\n",
    "[Bizkaiko etxeak](http://bizkaikoetxeak.iturbe.info) (Houses of Biscay) is an interactive map where the buildings of Biscay are depicted. The buildings are colored based on their construction/restoration date. It was inspired by a similar [Dutch map](http://code.waag.org/buildings/).\n",
    "\n",
    "As the raw map data (in [shapefiles](https://en.wikipedia.org/wiki/Shapefile)) from the cadastre does not have the construction year embedded it is necessary to work a bit in order to get and embed the information we want in the shapefile.\n",
    "\n",
    "This Jupyter notebook explains the process of getting and transforming the data used to build the shapefiles that will later be used with [Tilemill](https://github.com/tilemill-project/tilemill) to create the map."
   ]
  },
  {
   "cell_type": "markdown",
   "metadata": {},
   "source": [
    "#### Tools of the trade"
   ]
  },
  {
   "cell_type": "code",
   "execution_count": 1,
   "metadata": {
    "collapsed": false
   },
   "outputs": [],
   "source": [
    "import shapefile\n",
    "import pandas as pd\n",
    "import os\n",
    "import glob\n",
    "from IPython.display import Image\n",
    "from tqdm import tqdm"
   ]
  },
  {
   "cell_type": "markdown",
   "metadata": {},
   "source": [
    "### 1. Get cadastral data"
   ]
  },
  {
   "cell_type": "markdown",
   "metadata": {},
   "source": [
    "Cadastral data can be downloaded from the [website of the cadastre of Biscay](http://www.bizkaia.eus/home2/Temas/DetalleTema.asp?Tem_Codigo=5181&Idioma=IN) from the [open access data section](http://apps.bizkaia.net/KUPW/servlet/webAgentKUPW). Cadastral data is ordered by municipality and has to be downloaded by hand for all the municipalities in the province (there is a captcha). In this case, I used the urban datasets.\n",
    "\n",
    "Even if the data is publicly accessible, it is copyrighted and it is property of the Provincial Council of Biscay. Therefore, original and transformed data is not shared along the notebook. Feel free to download the data and play yourselves. Only a small sample is provided for example purposes."
   ]
  },
  {
   "cell_type": "markdown",
   "metadata": {},
   "source": [
    "### 2. Understanding the data\n",
    "\n",
    "When we unzip a downloaded municipality file from the cadastre, we can see that there are many different shapefiles and one CSV file (004 is the code of the municipality):"
   ]
  },
  {
   "cell_type": "code",
   "execution_count": 2,
   "metadata": {
    "collapsed": false
   },
   "outputs": [
    {
     "data": {
      "text/plain": [
       "['004_KU_Municipios.shx',\n",
       " '004_KU_Edificios.shp',\n",
       " '004_KU_Poligonos.dbf',\n",
       " '004_KU_Poligonos.shx',\n",
       " '004_KU_Anota_Calles.shx',\n",
       " '004_KU_Num_Portal.shp',\n",
       " '004_KU_Parcelas.shx',\n",
       " '004_KU_Anota_Calles.dbf',\n",
       " '004_KU_Manzanas.shp',\n",
       " '004_KU_Parcelas.shp',\n",
       " '004_KU_Manzanas.shx',\n",
       " '004_KU_Municipios.dbf',\n",
       " '004_KU_Parcelas.dbf',\n",
       " '004_KU_Manzanas.dbf',\n",
       " '004_KU_Edificios.shx',\n",
       " '004_KU_Anota_Calles.shp',\n",
       " '004_KU_Edificios.dbf',\n",
       " '004_KU_Poligonos.shp',\n",
       " '004_KU_Num_Portal.dbf',\n",
       " '004_KU_Municipios.shp',\n",
       " '004_KU_Num_Portal.shx',\n",
       " '004.F20161002.CSV']"
      ]
     },
     "execution_count": 2,
     "metadata": {},
     "output_type": "execute_result"
    }
   ],
   "source": [
    "os.listdir('../data/004/')"
   ]
  },
  {
   "cell_type": "markdown",
   "metadata": {},
   "source": [
    "#### 2.1 CSV files"
   ]
  },
  {
   "cell_type": "markdown",
   "metadata": {},
   "source": [
    "The CSV file for each municipality is the file that has all the cadastre data recorded. By loading the CSV file into a [Pandas](http://pandas.pydata.org/) dataframe, we can explore and later compute the data more easily.\n",
    "\n"
   ]
  },
  {
   "cell_type": "code",
   "execution_count": 3,
   "metadata": {
    "collapsed": false
   },
   "outputs": [],
   "source": [
    "df_sample = pd.read_csv('../data/004/004.F20161002.CSV', \n",
    "                        sep='\\s*\\\";\"\\s*', \n",
    "                        engine='python', \n",
    "                        encoding='latin1', \n",
    "                        header=1)"
   ]
  },
  {
   "cell_type": "code",
   "execution_count": 4,
   "metadata": {
    "collapsed": false
   },
   "outputs": [
    {
     "data": {
      "text/plain": [
       "26"
      ]
     },
     "execution_count": 4,
     "metadata": {},
     "output_type": "execute_result"
    }
   ],
   "source": [
    "len(df_sample.columns)"
   ]
  },
  {
   "cell_type": "code",
   "execution_count": 5,
   "metadata": {
    "collapsed": false
   },
   "outputs": [
    {
     "data": {
      "text/html": [
       "<div>\n",
       "<table border=\"1\" class=\"dataframe\">\n",
       "  <thead>\n",
       "    <tr style=\"text-align: right;\">\n",
       "      <th></th>\n",
       "      <th>\"Tipo_Suelo</th>\n",
       "      <th>Ref_Catastral</th>\n",
       "      <th>Asoc_Cargo</th>\n",
       "      <th>Codprov</th>\n",
       "      <th>Codmun</th>\n",
       "      <th>Codpol</th>\n",
       "      <th>Codman</th>\n",
       "      <th>Codpar</th>\n",
       "      <th>Nº Edif</th>\n",
       "      <th>CodCalle</th>\n",
       "      <th>TipoCalle</th>\n",
       "      <th>NomCalle</th>\n",
       "      <th>TipoPortal</th>\n",
       "      <th>OrdenPortal</th>\n",
       "      <th>NumPortal</th>\n",
       "      <th>DupPortal</th>\n",
       "      <th>U_C_M_Edif</th>\n",
       "      <th>Año_Const</th>\n",
       "      <th>Escalera</th>\n",
       "      <th>Tipo_Planta</th>\n",
       "      <th>Mano</th>\n",
       "      <th>Puerta</th>\n",
       "      <th>Sup_Parcela</th>\n",
       "      <th>Sup_Planta</th>\n",
       "      <th>Sup_Local</th>\n",
       "      <th>U_C_M_Objeto\"</th>\n",
       "    </tr>\n",
       "  </thead>\n",
       "  <tbody>\n",
       "    <tr>\n",
       "      <th>922</th>\n",
       "      <td>\"U</td>\n",
       "      <td>U4017730Q</td>\n",
       "      <td>1</td>\n",
       "      <td>48</td>\n",
       "      <td>4</td>\n",
       "      <td>3</td>\n",
       "      <td>24</td>\n",
       "      <td>1</td>\n",
       "      <td>1</td>\n",
       "      <td>5</td>\n",
       "      <td>BO</td>\n",
       "      <td>ELEXALDE</td>\n",
       "      <td>NaN</td>\n",
       "      <td>NaN</td>\n",
       "      <td>1</td>\n",
       "      <td>NaN</td>\n",
       "      <td>P 2 1 DE CARACTER OFICIAL</td>\n",
       "      <td>1890</td>\n",
       "      <td>U</td>\n",
       "      <td>01</td>\n",
       "      <td>DR</td>\n",
       "      <td>NaN</td>\n",
       "      <td>170.0</td>\n",
       "      <td>156</td>\n",
       "      <td>66,73</td>\n",
       "      <td>P 2 1 DE CARACTER OFICIAL                     ...</td>\n",
       "    </tr>\n",
       "  </tbody>\n",
       "</table>\n",
       "</div>"
      ],
      "text/plain": [
       "    \"Tipo_Suelo Ref_Catastral  Asoc_Cargo  Codprov  Codmun  Codpol  Codman  \\\n",
       "922          \"U     U4017730Q           1       48       4       3      24   \n",
       "\n",
       "     Codpar  Nº Edif  CodCalle TipoCalle  NomCalle  TipoPortal  OrdenPortal  \\\n",
       "922       1        1         5        BO  ELEXALDE         NaN          NaN   \n",
       "\n",
       "     NumPortal DupPortal                 U_C_M_Edif  Año_Const Escalera  \\\n",
       "922          1       NaN  P 2 1 DE CARACTER OFICIAL       1890        U   \n",
       "\n",
       "    Tipo_Planta Mano  Puerta  Sup_Parcela  Sup_Planta Sup_Local  \\\n",
       "922          01   DR     NaN        170.0         156     66,73   \n",
       "\n",
       "                                         U_C_M_Objeto\"  \n",
       "922  P 2 1 DE CARACTER OFICIAL                     ...  "
      ]
     },
     "execution_count": 5,
     "metadata": {},
     "output_type": "execute_result"
    }
   ],
   "source": [
    "pd.set_option(\"display.max_columns\",26)\n",
    "\n",
    "# For illustration purposes, we will use the reference of a town hall\n",
    "df_sample[df_sample.Ref_Catastral=='U4017730Q']"
   ]
  },
  {
   "cell_type": "markdown",
   "metadata": {},
   "source": [
    "This is the aspect of one entry in the cadastre. An entry can correspond to a entire building (if there is a single usage and no divisions inside) but most of the entries correspond to subdivisions in a single building, as several entries share a single building (e.g. an apartment block has many dwellings).\n",
    "\n",
    "We see that entries have their construction date recorded (*Año_const*), but among different entries, we don't know how to identify different buildings.\n",
    "\n",
    "As there is no public documentation whatsoever about the meaning of each of the fields, but we can a look at them and use the Cadaster enquiries to try to infer their meaning.\n",
    "\n"
   ]
  },
  {
   "cell_type": "markdown",
   "metadata": {},
   "source": [
    "This is the header of a cadastral query, with the information from the previous row properly formatted in a PDF file. We can ask for similar PDF files from the [Cadastral enquiries section](http://apps.bizkaia.net/KUPW/servlet/webAgentKUPW) in the Cadastre website.\n",
    "\n"
   ]
  },
  {
   "cell_type": "code",
   "execution_count": 6,
   "metadata": {
    "collapsed": false
   },
   "outputs": [
    {
     "data": {
      "image/png": "[encoded data removed]",
      "text/plain": [
       "<IPython.core.display.Image object>"
      ]
     },
     "execution_count": 6,
     "metadata": {},
     "output_type": "execute_result"
    }
   ],
   "source": [
    "Image(filename='../images/cadastre_query.png') "
   ]
  },
  {
   "cell_type": "markdown",
   "metadata": {},
   "source": [
    "Here we get some information about the meaning of the fields in the CSV, as this PDF header is just a rendered version of it. \n",
    "\n",
    "First, the *Año_const* field does not only mean the date of construction, but it can reference the latest restoration date. This will partially impact the of the final map, as there is no way of getting the original construction year just with the publicly available data.\n",
    "\n",
    "If we focus on the *Lursailaren Kokalekua* section (which, when translated into English roughly means *Plot localization*), we will see a set of six codes. The first five, whereas the sixth, references a subdivision inside a building (for example, an apartment in a block).\n",
    "\n",
    "We'll check that the code is indeed the same in the previous Pandas dataframe:"
   ]
  },
  {
   "cell_type": "code",
   "execution_count": 7,
   "metadata": {
    "collapsed": false
   },
   "outputs": [
    {
     "data": {
      "text/html": [
       "<div>\n",
       "<table border=\"1\" class=\"dataframe\">\n",
       "  <thead>\n",
       "    <tr style=\"text-align: right;\">\n",
       "      <th></th>\n",
       "      <th>Ref_Catastral</th>\n",
       "      <th>Codmun</th>\n",
       "      <th>Codpol</th>\n",
       "      <th>Codman</th>\n",
       "      <th>Codpar</th>\n",
       "      <th>Nº Edif</th>\n",
       "    </tr>\n",
       "  </thead>\n",
       "  <tbody>\n",
       "    <tr>\n",
       "      <th>922</th>\n",
       "      <td>U4017730Q</td>\n",
       "      <td>4</td>\n",
       "      <td>3</td>\n",
       "      <td>24</td>\n",
       "      <td>1</td>\n",
       "      <td>1</td>\n",
       "    </tr>\n",
       "  </tbody>\n",
       "</table>\n",
       "</div>"
      ],
      "text/plain": [
       "    Ref_Catastral  Codmun  Codpol  Codman  Codpar  Nº Edif\n",
       "922     U4017730Q       4       3      24       1        1"
      ]
     },
     "execution_count": 7,
     "metadata": {},
     "output_type": "execute_result"
    }
   ],
   "source": [
    "df_municipality = df_sample[df_sample.Ref_Catastral=='U4017730Q']\n",
    "df_municipality[['Ref_Catastral','Codmun', 'Codpol', 'Codman','Codpar','Nº Edif']]\n"
   ]
  },
  {
   "cell_type": "markdown",
   "metadata": {},
   "source": [
    "And voilá, we now know how unique buildings can be identified in the CSV file, even if they have a large number of subdivisions and cadastre references. A building will be uniquely defined by the tuple of the shown values."
   ]
  },
  {
   "cell_type": "markdown",
   "metadata": {},
   "source": [
    "#### 2.2 Shapefiles"
   ]
  },
  {
   "cell_type": "markdown",
   "metadata": {},
   "source": [
    "[Shapefiles](https://en.wikipedia.org/wiki/Shapefile) are basically vectorized data-formats for geospatial data. In the case of the publicly available cadastral data, we have different shapefiles (streets, plots, door numbers...). But to build the *Houses of Biscay* map, we will just focus on the shapefiles that contain building data. Those shapefiles have the *KU_Edificios* string in their filename.\n",
    "\n",
    "Lets see what fields these shapefiles have:"
   ]
  },
  {
   "cell_type": "code",
   "execution_count": 8,
   "metadata": {
    "collapsed": false
   },
   "outputs": [
    {
     "data": {
      "text/plain": [
       "[('DeletionFlag', 'C', 1, 0),\n",
       " ['AREA', 'N', 19, 8],\n",
       " ['PERIMETER', 'N', 19, 8],\n",
       " ['COD_OBJETO', 'C', 5, 0],\n",
       " ['CLASE', 'C', 2, 0],\n",
       " ['CODPROV', 'N', 10, 0],\n",
       " ['CODMUN', 'N', 10, 0],\n",
       " ['CODPOL', 'N', 10, 0],\n",
       " ['CODMAN', 'N', 10, 0],\n",
       " ['CODPAR', 'N', 10, 0],\n",
       " ['CODEDI', 'N', 10, 0],\n",
       " ['CODCALLE', 'C', 5, 0],\n",
       " ['NUMPORTAL', 'C', 9, 0],\n",
       " ['XCENTRO', 'N', 19, 8],\n",
       " ['YCENTRO', 'N', 19, 8],\n",
       " ['F_MODIFICA', 'D', 8, 0],\n",
       " ['F_BAJA', 'D', 8, 0],\n",
       " ['OBSERVA', 'C', 50, 0],\n",
       " ['F_CARGA', 'D', 8, 0],\n",
       " ['EXPEDIENTE', 'C', 11, 0],\n",
       " ['shape_area', 'F', 19, 11],\n",
       " ['shape_len', 'F', 19, 11]]"
      ]
     },
     "execution_count": 8,
     "metadata": {},
     "output_type": "execute_result"
    }
   ],
   "source": [
    "r_shp = shapefile.Reader('../004/004_KU_Edificios.shp')\n",
    "r_shp.fields"
   ]
  },
  {
   "cell_type": "markdown",
   "metadata": {},
   "source": [
    "Good! Shapefiles also have the building identifiers embedded (CODMUN, CODPOL, CODMAN, CODPAR, CODEDI), so it is possible to merge both CSV and shapefile datasets to infer the construction date of a shapefile record."
   ]
  },
  {
   "cell_type": "markdown",
   "metadata": {},
   "source": [
    "### 3. Add construction year to shapefile"
   ]
  },
  {
   "cell_type": "markdown",
   "metadata": {},
   "source": [
    "This section shows the process of adding the construction date found in the CSV to the equivalent building in the shapefile. It first loads the information from the CSV and the Shapefile, and for each building entry in the shapefile (with the 'ED' value in the CLASE field), it finds the corresponding building in the CSV and later adds it to the shapefile again."
   ]
  },
  {
   "cell_type": "code",
   "execution_count": 9,
   "metadata": {
    "collapsed": true
   },
   "outputs": [],
   "source": [
    "BUILDING_SHAPEFILE_PATH = '../data/buildings/'\n",
    "BUILDING_SHAPEFILE_STRING = '_KU_Edificios.dbf'\n",
    "\n",
    "BOUNDARY_SHAPEFILE_PATH = '../data/boundaries/'\n",
    "\n",
    "CADASTRAL_CSV_PATH = '../data/csv/'\n",
    "CADASTRAL_CSV_STRING = '.F20161002.CSV' #Data is from October 2nd, 2016\n",
    "\n",
    "SHAPEFILE_SAVE_PATH = '../data/ext_buildings/'\n",
    "\n",
    "RESULT_SAVE_PATH = '../data/results/'"
   ]
  },
  {
   "cell_type": "code",
   "execution_count": 10,
   "metadata": {
    "collapsed": false
   },
   "outputs": [
    {
     "name": "stdout",
     "output_type": "stream",
     "text": [
      "{'030', '070', '013', '019', '055', '902', '038', '057', '020', '006', '063', '048', '032', '001', '913', '045', '036', '011', '083', '095', '018', '005', '054', '067', '910', '058', '009', '901', '004', '066', '911', '053', '037', '043', '074', '044', '021', '039', '075', '050', '042', '915', '091', '069', '914', '017', '071', '905', '023', '012', '060', '085', '028', '079', '047', '026', '912', '086', '024', '008', '090', '003', '016', '061', '015', '092', '031', '062', '084', '051', '080', '072', '907', '007', '025', '082', '081', '027', '035', '064', '078', '052', '029', '046', '089', '002', '065', '097', '022', '093', '088', '034', '014', '903', '077', '056', '041', '068', '040', '059', '909', '010', '904', '087', '076', '073', '094', '033', '049', '908', '906'}\n"
     ]
    }
   ],
   "source": [
    "shapefiles = [f for f in os.listdir(BUILDING_SHAPEFILE_PATH) if os.path.isfile(os.path.join(BUILDING_SHAPEFILE_PATH, f))]\n",
    "\n",
    "# Extract municipality code from the first three digits in the filename\n",
    "municipality_codes = {filename[0:3] for filename in shapefiles}\n",
    "print(municipality_codes)\n",
    "                   "
   ]
  },
  {
   "cell_type": "code",
   "execution_count": 11,
   "metadata": {
    "collapsed": true
   },
   "outputs": [],
   "source": [
    "def load_building_data(municipality_code):\n",
    "    \"\"\"\n",
    "    Loads relevant building data from a CSV file to a Pandas \n",
    "    dataframe.\n",
    "    \n",
    "    Args:\n",
    "        municipality_code(str): Three digit municipality id.\n",
    "    Returns:\n",
    "        df: Pandas dataframe listing buildings in the municipality\n",
    "            with their identifying features and construction date.\n",
    "    \"\"\"\n",
    "    global counter_csv_total_buildings\n",
    "    df = pd.read_csv(\n",
    "        CADASTRAL_CSV_PATH+municipality_code+CADASTRAL_CSV_STRING,\n",
    "        sep='\\s*\\\";\"\\s*', \n",
    "        usecols=['Codmun',\n",
    "                 'Codpol',\n",
    "                 'Codman',\n",
    "                 'Codpar',               \n",
    "                 'Nº Edif', \n",
    "                 'Año_Const'\n",
    "                ],\n",
    "        encoding = 'latin1',\n",
    "        header=1,\n",
    "        engine='python')\n",
    "    \n",
    "    df = df.drop_duplicates() # Buildings with several dwellings will have several identical entries\n",
    "    \n",
    "    counter_csv_total_buildings = counter_csv_total_buildings+len(df.index)\n",
    "    return df"
   ]
  },
  {
   "cell_type": "code",
   "execution_count": 12,
   "metadata": {
    "collapsed": true
   },
   "outputs": [],
   "source": [
    "def find_building_construction_year(shp_record, buildings_df):\n",
    "    \"\"\"\n",
    "    Finds the corresponding construction year of a Shapefile record \n",
    "    in a dataframe of buildings.\n",
    "    \n",
    "    Args:\n",
    "        shp_record (Shapefile record): Buildings shapefile.\n",
    "        buildings_df (Pandas df): Dataframe with building construction\n",
    "            data.\n",
    "    Returns:\n",
    "        const_year: The corresponding construction year of the shapefile\n",
    "            record.            \n",
    "    \"\"\"\n",
    "    global counter_year_normal\n",
    "    global counter_year_zero\n",
    "    global counter_shp_non_buildings\n",
    "    \n",
    "    if rec[3] != 'ED': # ED code is for buildings. There are also non-buildings in the shapefile\n",
    "        counter_shp_non_buildings = counter_shp_non_buildings+1 \n",
    "        return 0 # Zero years are later filtered in the map\n",
    "    \n",
    "    corresponding_building = buildings_df[\n",
    "                            (buildings_df['Codmun']   == int(shp_record[5])) & \n",
    "                            (buildings_df['Codpol']   == int(shp_record[6])) & \n",
    "                            (buildings_df['Codman']   == int(shp_record[7])) & \n",
    "                            (buildings_df['Codpar']   == int(shp_record[8])) & \n",
    "                            (buildings_df['Nº Edif']  == int(shp_record[9])) \n",
    "                           ]\n",
    "\n",
    "    if corresponding_building.empty: # No equivalent in dataframe\n",
    "            const_year = 0\n",
    "            counter_year_zero = counter_year_zero + 1 \n",
    "    else:\n",
    "        assert len(corresponding_building.index) == 1, \"More than one corresponding buildings in CSV\"\n",
    "        const_year = int(corresponding_building['Año_Const'])\n",
    "        counter_year_normal = counter_year_normal + 1\n",
    "        \n",
    "    return const_year"
   ]
  },
  {
   "cell_type": "code",
   "execution_count": 13,
   "metadata": {
    "collapsed": false
   },
   "outputs": [
    {
     "name": "stderr",
     "output_type": "stream",
     "text": [
      "100%|██████████| 111/111 [04:56<00:00,  1.05it/s]\n"
     ]
    }
   ],
   "source": [
    "# Main loop to compute all buildings from Biscay.\n",
    "# Takes a while to compute.\n",
    "\n",
    "# Counters to show some statistics after computation\n",
    "counter_year_normal = 0\n",
    "counter_year_zero = 0 \n",
    "counter_csv_total_buildings = 0\n",
    "counter_shp_total_buildings = 0\n",
    "counter_shp_non_buildings = 0\n",
    "\n",
    "for municipality_code in tqdm(municipality_codes):\n",
    "    \n",
    "    buildings_df = load_building_data(municipality_code)\n",
    "    \n",
    "    r_shp = shapefile.Reader(BUILDING_SHAPEFILE_PATH+municipality_code+BUILDING_SHAPEFILE_STRING)\n",
    "    counter_shp_total_buildings = counter_shp_total_buildings + r_shp.numRecords\n",
    "    \n",
    "    w_shp = shapefile.Writer()\n",
    "\n",
    "    # Copy over the existing fields\n",
    "    w_shp.fields = list(r_shp.fields)\n",
    "    # Add construction year field \n",
    "    w_shp.field(\"ANO_CONST\", \"N\", \"40\")\n",
    "   \n",
    "    for rec in r_shp.records():\n",
    "        const_year = find_building_construction_year(rec,buildings_df)\n",
    "        \n",
    "        rec.append(const_year) # Append building year to record\n",
    "        w_shp.records.append(rec) # Append extended record to Shapefile writer\n",
    "                          \n",
    "\n",
    "    # Copy the geometry of shapefiles and save them.\n",
    "    w_shp._shapes.extend(r_shp.shapes())\n",
    "    w_shp.save(SHAPEFILE_SAVE_PATH+municipality_code+'_EXT'+BUILDING_SHAPEFILE_STRING)\n",
    "    \n",
    "    "
   ]
  },
  {
   "cell_type": "code",
   "execution_count": 14,
   "metadata": {
    "collapsed": false
   },
   "outputs": [
    {
     "name": "stdout",
     "output_type": "stream",
     "text": [
      "Total number of buildings in CSV files: 143420\n",
      "Total number of buildings in the shapefiles: 143550\n",
      "Buildings without the tag \"ED\" in the shapefiles: 16539\n",
      "Matched shapefile buildings: 126740\n",
      "Unmatched shapefile buildings: 271\n"
     ]
    }
   ],
   "source": [
    "print('Total number of buildings in CSV files: {}'.format(counter_csv_total_buildings))\n",
    "print('Total number of buildings in the shapefiles: {}'.format(counter_shp_total_buildings))\n",
    "print('Buildings without the tag \"ED\" in the shapefiles: {}'.format(counter_shp_non_buildings))\n",
    "print('Matched shapefile buildings: {}'.format(counter_year_normal))\n",
    "print('Unmatched shapefile buildings: {}'.format(counter_year_zero))"
   ]
  },
  {
   "cell_type": "markdown",
   "metadata": {},
   "source": [
    "### 4. Merge municipality data\n",
    "\n",
    "Now we have a set of shapefiles (one per municipality) with integrated construction data. To make things simpler when creating the map with Tilemill, we will merge these shapefiles into a single one."
   ]
  },
  {
   "cell_type": "code",
   "execution_count": 15,
   "metadata": {
    "collapsed": true
   },
   "outputs": [],
   "source": [
    "def merge_shapefiles(shapefiles_paths, shapefile_type):\n",
    "    \"\"\"\n",
    "    Merges a set of shapefiles into a larger single one.\n",
    "    \n",
    "    Args:\n",
    "        shapefiles_paths (list): A list with the shapefiles to merge.\n",
    "        shapefile_type (str): The type of shapefiles to indicate it in\n",
    "            the final save.\n",
    "    \"\"\"\n",
    "    shp_merger = shapefile.Writer()\n",
    "    for shp in shapefiles_paths:\n",
    "        r_shp = shapefile.Reader(shp)\n",
    "        shp_merger._shapes.extend(r_shp.shapes())\n",
    "        shp_merger.records.extend(r_shp.records())\n",
    "    shp_merger.fields = list(r_shp.fields)\n",
    "    shp_merger.save(RESULT_SAVE_PATH+shapefile_type)"
   ]
  },
  {
   "cell_type": "code",
   "execution_count": 16,
   "metadata": {
    "collapsed": true
   },
   "outputs": [],
   "source": [
    "building_shapefiles = glob.glob(SHAPEFILE_SAVE_PATH+'*.shp')\n",
    "merge_shapefiles(building_shapefiles, \"all_buildings\")"
   ]
  },
  {
   "cell_type": "markdown",
   "metadata": {},
   "source": [
    "Similarly, we will also merge the shapefiles of municipality boundaries to create a single municipality map of Biscay. These boundary shapefiles are included in the Zip files of the cadastre, so no preprocessing is needed to merge them."
   ]
  },
  {
   "cell_type": "code",
   "execution_count": 17,
   "metadata": {
    "collapsed": false
   },
   "outputs": [],
   "source": [
    "municipality_shapefiles = glob.glob(BOUNDARY_SHAPEFILE_PATH+'*.shp')\n",
    "merge_shapefiles(municipality_shapefiles, \"all_boundaries\")"
   ]
  },
  {
   "cell_type": "markdown",
   "metadata": {},
   "source": [
    "Now we are ready to load the shapefiles into Tilemill and create the proper map."
   ]
  }
 ],
 "metadata": {
  "kernelspec": {
   "display_name": "Python 3",
   "language": "python",
   "name": "python3"
  },
  "language_info": {
   "codemirror_mode": {
    "name": "ipython",
    "version": 3
   },
   "file_extension": ".py",
   "mimetype": "text/x-python",
   "name": "python",
   "nbconvert_exporter": "python",
   "pygments_lexer": "ipython3",
   "version": "3.5.2"
  }
 },
 "nbformat": 4,
 "nbformat_minor": 1
}
